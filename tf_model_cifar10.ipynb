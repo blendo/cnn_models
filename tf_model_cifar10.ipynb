{
 "cells": [
  {
   "cell_type": "code",
   "execution_count": 11,
   "metadata": {
    "collapsed": true
   },
   "outputs": [],
   "source": [
    "import tensorflow as tf\n",
    "import cPickle\n",
    "import os\n",
    "import matplotlib.pyplot as plt\n",
    "import numpy as np\n",
    "import glob\n",
    "import time\n",
    "%matplotlib inline"
   ]
  },
  {
   "cell_type": "code",
   "execution_count": 2,
   "metadata": {
    "collapsed": false
   },
   "outputs": [
    {
     "data": {
      "text/plain": [
       "['data', 'labels', 'batch_label', 'filenames']"
      ]
     },
     "execution_count": 2,
     "metadata": {},
     "output_type": "execute_result"
    }
   ],
   "source": [
    "file_path = os.path.expanduser('~/data/cifar10/cifar-10-batches-py/data_batch_1')\n",
    "\n",
    "def unpickle(file):\n",
    "    import cPickle\n",
    "    fo = open(file, 'rb')\n",
    "    dict = cPickle.load(fo)\n",
    "    fo.close()\n",
    "    return dict\n",
    "    \n",
    "data_01 = unpickle(file = file_path)\n",
    "data_01.keys()"
   ]
  },
  {
   "cell_type": "code",
   "execution_count": 17,
   "metadata": {
    "collapsed": false
   },
   "outputs": [
    {
     "name": "stdout",
     "output_type": "stream",
     "text": [
      "Train data set shape  (50000, 3072) (50000,)\n"
     ]
    }
   ],
   "source": [
    "train_files = glob.glob('/home/ubuntu/data/cifar10/cifar-10-batches-py/data_batch_*')\n",
    "test_files = glob.glob('/home/ubuntu/data/cifar10/cifar-10-batches-py/test_batch')\n",
    "\n",
    "images_ = []\n",
    "labels_ = []\n",
    "for i in train_files:\n",
    "    images_.append(unpickle(file = i)['data'])\n",
    "    labels_.append(np.array(unpickle(file = i)['labels']))\n",
    "\n",
    "\n",
    "imgs_ = np.concatenate(images_)\n",
    "labels_ = np.concatenate(labels_)\n",
    "print \"Train data set shape \", imgs_.shape, labels_.shape\n",
    "\n",
    "images_test = []\n",
    "labels_test = []\n",
    "for i in test_files:\n",
    "    images_test.append(unpickle(file = i)['data'])\n",
    "    labels_test.append(np.array(unpickle(file = i)['labels']))\n",
    "    \n",
    "#print \"Lables data set shape \", images_test.shape, labels_test.shape"
   ]
  },
  {
   "cell_type": "code",
   "execution_count": 3,
   "metadata": {
    "collapsed": true
   },
   "outputs": [],
   "source": [
    "batch_size = 10\n",
    "image_size = 32\n",
    "channels = 3\n",
    "NUM_CLASSES = 10\n",
    "\n",
    "X = tf.placeholder(shape=[batch_size, image_size * image_size * channels], dtype=tf.float32)    \n",
    "X_reshape = tf.reshape(X, shape=[batch_size, channels, image_size, image_size])\n",
    "X_trans = tf.transpose(X_reshape, perm=[0,2,3,1])\n",
    "X_formatted = tf.div(X_trans, 255.)\n",
    "labels = tf.placeholder(shape=[batch_size], dtype=tf.int32)\n",
    "\n",
    "def _variable_on_cpu(name, shape, initializer):\n",
    "    with tf.device('/cpu:0'):\n",
    "        dtype = tf.float32\n",
    "        var = tf.get_variable(name, shape, initializer=initializer, dtype=tf.float32)\n",
    "    return var\n",
    "    \n",
    "def _variable_on_gpu(name, shape, initializer):\n",
    "    with tf.device('/gpu:0'):\n",
    "        dtype = tf.float32\n",
    "        var = tf.get_variable(name, shape, initializer=initializer, dtype=tf.float32)\n",
    "    return var\n",
    "\n",
    "def _variable_with_weight_decay(name, shape, stddev, wd):\n",
    "    dtype = tf.float32\n",
    "    var = _variable_on_cpu(name,shape,tf.truncated_normal_initializer(stddev=stddev, dtype=dtype))\n",
    "    if wd is not None:\n",
    "        weight_decay = tf.multiply(tf.nn.l2_loss(var), wd, name='weight_loss')\n",
    "        tf.add_to_collection('losses', weight_decay)\n",
    "    return var"
   ]
  },
  {
   "cell_type": "code",
   "execution_count": 4,
   "metadata": {
    "collapsed": false
   },
   "outputs": [],
   "source": [
    "# --------------------------------------------------\n",
    "kernel = _variable_with_weight_decay(name='kernel_one', shape=[5, 5, 3, 64], stddev=5e-2, wd=0.0)\n",
    "conv = tf.nn.conv2d(X_formatted, kernel, [1, 1, 1, 1], padding='SAME')\n",
    "biases = _variable_on_gpu('biases', [64], tf.constant_initializer(0.0))\n",
    "pre_activation = tf.nn.bias_add(conv, biases)\n",
    "conv1 = tf.nn.relu(pre_activation, name='conv_one')\n",
    "# pool1\n",
    "pool1 = tf.nn.max_pool(conv1, ksize=[1, 3, 3, 1], strides=[1, 2, 2, 1], padding='SAME', name='pool1')\n",
    "# norm1\n",
    "norm1 = tf.nn.lrn(pool1, 4, bias=1.0, alpha=0.001 / 9.0, beta=0.75,name='norm1')"
   ]
  },
  {
   "cell_type": "code",
   "execution_count": 5,
   "metadata": {
    "collapsed": true
   },
   "outputs": [],
   "source": [
    "# --------------------------------------------------\n",
    "kernel2 = _variable_with_weight_decay('weights2', shape=[5, 5, 64, 64], stddev=5e-2, wd=0.0)\n",
    "conv2 = tf.nn.conv2d(norm1, kernel2, [1, 1, 1, 1], padding='SAME')\n",
    "biases2 = _variable_on_gpu('biases2', [64], tf.constant_initializer(0.1))\n",
    "pre_activation2 = tf.nn.bias_add(conv2, biases2)\n",
    "conv_2 = tf.nn.relu(pre_activation2)\n",
    "# norm2\n",
    "norm2 = tf.nn.lrn(conv_2, 4, bias=1.0, alpha=0.001 / 9.0, beta=0.75,name='norm2')\n",
    "# pool2\n",
    "pool2 = tf.nn.max_pool(norm2, ksize=[1, 3, 3, 1],strides=[1, 2, 2, 1], padding='SAME', name='pool2')"
   ]
  },
  {
   "cell_type": "code",
   "execution_count": 6,
   "metadata": {
    "collapsed": true
   },
   "outputs": [],
   "source": [
    "# --------------------------------------------------\n",
    "reshape = tf.reshape(pool2, [batch_size, -1])\n",
    "dim = reshape.get_shape()[1].value\n",
    "weights3 = _variable_with_weight_decay('weights3', shape=[dim, 384],stddev=0.04, wd=0.004)\n",
    "biases3 = _variable_on_gpu('biases3', [384], tf.constant_initializer(0.1))\n",
    "local3 = tf.nn.relu(tf.matmul(reshape, weights3) + biases3, name='local2')"
   ]
  },
  {
   "cell_type": "code",
   "execution_count": 7,
   "metadata": {
    "collapsed": true
   },
   "outputs": [],
   "source": [
    "# --------------------------------------------------\n",
    "weights4 = _variable_with_weight_decay('weights4', shape=[384, 192],stddev=0.04, wd=0.004)\n",
    "biases4 = _variable_on_gpu('biases4', [192], tf.constant_initializer(0.1))\n",
    "local4 = tf.nn.relu(tf.matmul(local3, weights4) + biases4, name='local4')"
   ]
  },
  {
   "cell_type": "code",
   "execution_count": 8,
   "metadata": {
    "collapsed": false
   },
   "outputs": [],
   "source": [
    "# --------------------------------------------------\n",
    "weights5 = _variable_with_weight_decay('weights5', [192, NUM_CLASSES],stddev=1/192.0, wd=0.0)\n",
    "biases5 = _variable_on_gpu('biases5', [NUM_CLASSES], tf.constant_initializer(0.0))\n",
    "softmax_linear = tf.add(tf.matmul(local4, weights5), biases5, name='local5')"
   ]
  },
  {
   "cell_type": "code",
   "execution_count": 9,
   "metadata": {
    "collapsed": false
   },
   "outputs": [],
   "source": [
    "labels = tf.cast(labels, dtype=tf.int64)\n",
    "loss = tf.reduce_mean(tf.nn.sparse_softmax_cross_entropy_with_logits(softmax_linear, labels))\n",
    "optim = tf.train.GradientDescentOptimizer(learning_rate=0.05).minimize(loss)"
   ]
  },
  {
   "cell_type": "code",
   "execution_count": 5,
   "metadata": {
    "collapsed": true
   },
   "outputs": [],
   "source": [
    "sess = tf.Session()\n",
    "sess.run(tf.global_variables_initializer())"
   ]
  },
  {
   "cell_type": "code",
   "execution_count": 7,
   "metadata": {
    "collapsed": true
   },
   "outputs": [],
   "source": [
    "rows = np.random.choice(np.arange(10000), size=10)\n",
    "dict_ims = {X:data_01['data'][rows, :], labels:np.array(data_01['labels'])[rows]}"
   ]
  },
  {
   "cell_type": "markdown",
   "metadata": {},
   "source": [
    "Train Model"
   ]
  },
  {
   "cell_type": "code",
   "execution_count": 39,
   "metadata": {
    "collapsed": true
   },
   "outputs": [],
   "source": [
    "sess.close()"
   ]
  },
  {
   "cell_type": "code",
   "execution_count": 40,
   "metadata": {
    "collapsed": true
   },
   "outputs": [],
   "source": [
    "loss_ = []\n",
    "sess = tf.Session()\n",
    "sess.run(tf.global_variables_initializer())"
   ]
  },
  {
   "cell_type": "code",
   "execution_count": 45,
   "metadata": {
    "collapsed": true
   },
   "outputs": [],
   "source": [
    "# model save \n",
    "saver = tf.train.Saver()\n",
    "save_path = '/home/ubuntu/tf_models/cifar10/cifar_model.ckpt'\n",
    "# output to tensorboard\n",
    "summary_op=tf.summary.scalar('Loss', loss)\n",
    "#writer = tf.summary.FileWriter('./cifar10', graph=tf.get_default_graph())\n",
    "writer = tf.summary.FileWriter('/home/ubuntu/tf_board/cifar10/', graph=sess.graph)"
   ]
  },
  {
   "cell_type": "markdown",
   "metadata": {},
   "source": [
    "### Test Model on small batch size to see if data flows through model"
   ]
  },
  {
   "cell_type": "code",
   "execution_count": 41,
   "metadata": {
    "collapsed": true
   },
   "outputs": [],
   "source": [
    "# rows = np.random.choice(np.arange(10000), size=10)\n",
    "# dict_ims = {X:data_01['data'][rows, :], labels:np.array(data_01['labels'])[rows]}"
   ]
  },
  {
   "cell_type": "code",
   "execution_count": 42,
   "metadata": {
    "collapsed": false
   },
   "outputs": [],
   "source": [
    "# #test run on one train data set (out of 5)\n",
    "# ptime = time.time()\n",
    "# for i in range(5000):\n",
    "#     _, l = sess.run([optim, loss], feed_dict=dict_ims)\n",
    "# #     if i % 10 == 0:\n",
    "# #         print l\n",
    "# print \"Elapsed time \", time.time() - ptime"
   ]
  },
  {
   "cell_type": "code",
   "execution_count": 46,
   "metadata": {
    "collapsed": false
   },
   "outputs": [
    {
     "name": "stdout",
     "output_type": "stream",
     "text": [
      "Accuracy 0.200000\n",
      "0\n",
      "Accuracy 0.600000\n",
      "1000\n",
      "Accuracy 0.800000\n",
      "2000\n",
      "Accuracy 0.900000\n",
      "3000\n",
      "Accuracy 0.700000\n",
      "4000\n",
      "Accuracy 1.000000\n",
      "5000\n",
      "Accuracy 0.800000\n",
      "6000\n",
      "Accuracy 0.900000\n",
      "7000\n",
      "Accuracy 0.900000\n",
      "8000\n",
      "Accuracy 0.900000\n",
      "9000\n",
      "Accuracy 1.000000\n",
      "10000\n",
      "Accuracy 1.000000\n",
      "11000\n",
      "Accuracy 1.000000\n",
      "12000\n",
      "Accuracy 1.000000\n",
      "13000\n",
      "Accuracy 1.000000\n",
      "14000\n",
      "Accuracy 1.000000\n",
      "15000\n",
      "Accuracy 1.000000\n",
      "16000\n",
      "Accuracy 1.000000\n",
      "17000\n",
      "Accuracy 1.000000\n",
      "18000\n",
      "Accuracy 0.900000\n",
      "19000\n",
      "Accuracy 1.000000\n",
      "20000\n",
      "Accuracy 1.000000\n",
      "21000\n",
      "Accuracy 1.000000\n",
      "22000\n",
      "Accuracy 1.000000\n",
      "23000\n",
      "Accuracy 1.000000\n",
      "24000\n",
      "Accuracy 1.000000\n",
      "25000\n",
      "Accuracy 1.000000\n",
      "26000\n",
      "Accuracy 1.000000\n",
      "27000\n",
      "Accuracy 1.000000\n",
      "28000\n",
      "Accuracy 1.000000\n",
      "29000\n",
      "Accuracy 1.000000\n",
      "30000\n",
      "Accuracy 1.000000\n",
      "31000\n",
      "Accuracy 1.000000\n",
      "32000\n",
      "Accuracy 1.000000\n",
      "33000\n",
      "Accuracy 1.000000\n",
      "34000\n",
      "Accuracy 0.900000\n",
      "35000\n",
      "Accuracy 1.000000\n",
      "36000\n",
      "Accuracy 1.000000\n",
      "37000\n",
      "Accuracy 1.000000\n",
      "38000\n",
      "Accuracy 0.900000\n",
      "39000\n",
      "Accuracy 1.000000\n",
      "40000\n",
      "Accuracy 1.000000\n",
      "41000\n",
      "Accuracy 1.000000\n",
      "42000\n",
      "Accuracy 1.000000\n",
      "43000\n",
      "Accuracy 1.000000\n",
      "44000\n",
      "Accuracy 1.000000\n",
      "45000\n",
      "Accuracy 1.000000\n",
      "46000\n",
      "Accuracy 1.000000\n",
      "47000\n",
      "Accuracy 1.000000\n",
      "48000\n",
      "Accuracy 1.000000\n",
      "49000\n",
      "Accuracy 1.000000\n",
      "50000\n",
      "Accuracy 1.000000\n",
      "51000\n",
      "Accuracy 1.000000\n",
      "52000\n",
      "Accuracy 1.000000\n",
      "53000\n",
      "Accuracy 1.000000\n",
      "54000\n",
      "Accuracy 1.000000\n",
      "55000\n",
      "Accuracy 1.000000\n",
      "56000\n",
      "Accuracy 1.000000\n",
      "57000\n",
      "Accuracy 1.000000\n",
      "58000\n",
      "Accuracy 1.000000\n",
      "59000\n",
      "Accuracy 1.000000\n",
      "60000\n",
      "Accuracy 1.000000\n",
      "61000\n",
      "Accuracy 1.000000\n",
      "62000\n",
      "Accuracy 1.000000\n",
      "63000\n",
      "Accuracy 1.000000\n",
      "64000\n",
      "Accuracy 1.000000\n",
      "65000\n",
      "Accuracy 1.000000\n",
      "66000\n",
      "Accuracy 1.000000\n",
      "67000\n",
      "Accuracy 1.000000\n",
      "68000\n",
      "Accuracy 1.000000\n",
      "69000\n",
      "Accuracy 1.000000\n",
      "70000\n",
      "Accuracy 0.900000\n",
      "71000\n",
      "Accuracy 1.000000\n",
      "72000\n",
      "Accuracy 1.000000\n",
      "73000\n",
      "Accuracy 1.000000\n",
      "74000\n",
      "Accuracy 1.000000\n",
      "75000\n",
      "Accuracy 0.900000\n",
      "76000\n",
      "Accuracy 1.000000\n",
      "77000\n",
      "Accuracy 1.000000\n",
      "78000\n",
      "Accuracy 1.000000\n",
      "79000\n",
      "Accuracy 1.000000\n",
      "80000\n",
      "Accuracy 0.900000\n",
      "81000\n",
      "Accuracy 1.000000\n",
      "82000\n",
      "Accuracy 0.900000\n",
      "83000\n",
      "Accuracy 1.000000\n",
      "84000\n",
      "Accuracy 1.000000\n",
      "85000\n",
      "Accuracy 1.000000\n",
      "86000\n",
      "Accuracy 1.000000\n",
      "87000\n",
      "Accuracy 1.000000\n",
      "88000\n",
      "Accuracy 1.000000\n",
      "89000\n",
      "Accuracy 1.000000\n",
      "90000\n",
      "Accuracy 0.900000\n",
      "91000\n",
      "Accuracy 1.000000\n",
      "92000\n",
      "Accuracy 1.000000\n",
      "93000\n",
      "Accuracy 1.000000\n",
      "94000\n",
      "Accuracy 1.000000\n",
      "95000\n",
      "Accuracy 1.000000\n",
      "96000\n",
      "Accuracy 1.000000\n",
      "97000\n",
      "Accuracy 1.000000\n",
      "98000\n",
      "Accuracy 1.000000\n",
      "99000\n",
      "Accuracy 1.000000\n",
      "100000\n"
     ]
    }
   ],
   "source": [
    "for i in range(100001):\n",
    "    rows = np.random.choice(np.arange(50000), size=10)\n",
    "    dict_ims = {X:imgs_[rows, :], labels:labels_[rows]}\n",
    "    _, l = sess.run([optim, loss] , feed_dict=dict_ims)\n",
    "    if i % 100 == 0:\n",
    "        loss_.append(l)        \n",
    "        writer.add_summary(sess.run(summary_op, feed_dict=dict_ims), global_step=i)\n",
    "    if i % 1000 == 0:\n",
    "        pred, labs = sess.run([tf.arg_max(tf.nn.softmax(softmax_linear), dimension=1), labels] , feed_dict=dict_ims)\n",
    "        print \"Accuracy Mini Batch %f\" %(sum(pred == labs) / 10.)\n",
    "        print i\n",
    "    if i % 5000 == 0:\n",
    "        saver.save(sess, save_path=save_path, global_step=i)"
   ]
  },
  {
   "cell_type": "code",
   "execution_count": 52,
   "metadata": {
    "collapsed": true
   },
   "outputs": [],
   "source": [
    "import pandas as pd"
   ]
  },
  {
   "cell_type": "code",
   "execution_count": 57,
   "metadata": {
    "collapsed": false
   },
   "outputs": [
    {
     "name": "stderr",
     "output_type": "stream",
     "text": [
      "/home/ubuntu/anaconda2/lib/python2.7/site-packages/ipykernel/__main__.py:3: FutureWarning: pd.rolling_mean is deprecated for ndarrays and will be removed in a future version\n",
      "  app.launch_new_instance()\n"
     ]
    },
    {
     "data": {
      "text/plain": [
       "<matplotlib.text.Text at 0x7f002df62410>"
      ]
     },
     "execution_count": 57,
     "metadata": {},
     "output_type": "execute_result"
    },
    {
     "data": {
      "image/png": "[encoded data removed]",
      "text/plain": [
       "<matplotlib.figure.Figure at 0x7f002dfa1950>"
      ]
     },
     "metadata": {},
     "output_type": "display_data"
    }
   ],
   "source": [
    "plt.figure(figsize=(10,5))\n",
    "plt.plot(loss_)\n",
    "plt.plot(pd.rolling_mean(np.array(loss_), window=50), 'red')\n",
    "plt.title(\"Loss by 1k for 100k iterations\")"
   ]
  },
  {
   "cell_type": "markdown",
   "metadata": {},
   "source": [
    "### Validation Errors"
   ]
  },
  {
   "cell_type": "code",
   "execution_count": 74,
   "metadata": {
    "collapsed": false
   },
   "outputs": [],
   "source": [
    "images_test = np.array(images_test).reshape(10000, 3072)\n",
    "labels_test = np.array(labels_test).reshape(10000,)"
   ]
  },
  {
   "cell_type": "code",
   "execution_count": 75,
   "metadata": {
    "collapsed": false
   },
   "outputs": [],
   "source": []
  },
  {
   "cell_type": "code",
   "execution_count": 83,
   "metadata": {
    "collapsed": false
   },
   "outputs": [],
   "source": [
    "accuracy = []\n",
    "for i in range(1000):\n",
    "    rows = np.random.choice(np.arange(10000), size=10)\n",
    "    dict_ims = {X:images_test[rows, :], labels:labels_test[rows]}\n",
    "    pred, labs = sess.run([tf.arg_max(tf.nn.softmax(softmax_linear), dimension=1), labels] , feed_dict=dict_ims)\n",
    "    accuracy.append(sum(pred == labs) / 10.)"
   ]
  },
  {
   "cell_type": "code",
   "execution_count": 88,
   "metadata": {
    "collapsed": false
   },
   "outputs": [
    {
     "name": "stdout",
     "output_type": "stream",
     "text": [
      "0.6773\n"
     ]
    },
    {
     "data": {
      "image/png": "[encoded data removed]",
      "text/plain": [
       "<matplotlib.figure.Figure at 0x7f000aeb1e10>"
      ]
     },
     "metadata": {},
     "output_type": "display_data"
    }
   ],
   "source": [
    "plt.hist(accuracy, bins=7)\n",
    "print np.array(accuracy).mean()"
   ]
  }
 ],
 "metadata": {
  "kernelspec": {
   "display_name": "Python 2",
   "language": "python",
   "name": "python2"
  },
  "language_info": {
   "codemirror_mode": {
    "name": "ipython",
    "version": 2
   },
   "file_extension": ".py",
   "mimetype": "text/x-python",
   "name": "python",
   "nbconvert_exporter": "python",
   "pygments_lexer": "ipython2",
   "version": "2.7.13"
  }
 },
 "nbformat": 4,
 "nbformat_minor": 1
}
